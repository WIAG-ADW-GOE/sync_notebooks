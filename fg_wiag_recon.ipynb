{
 "cells": [
  {
   "cell_type": "markdown",
   "metadata": {},
   "source": [
    "# 2. Reconciliation of FactGrid and WIAG\n",
    "\n",
    "\n",
    "\n",
    "The code is designed to synchronize identification numbers (IDs) between a local database (WIAG) and an online database called FactGrid. Here's a detailed explanation:\n",
    "\n",
    "\n",
    "\n",
    "1. Load local data: The program reads a local spreadsheet that contains personal information and their corresponding IDs.\n",
    "\n",
    "2. Retrieve online data: It connects to the FactGrid online database to fetch the current IDs associated with the same individuals.\n",
    "\n",
    "3. Identify discrepancies: The code compares the local IDs with the online IDs to find any differences or mismatches.\n",
    "\n",
    "4. Find entries to update in FactGrid: Check for entries that need to be updated in FactGrid (and for which it can be done automatically)\n",
    "\n",
    "5. Update FactGrid: A file listing the discrepancies is generated, formatted in a way that can be used to automatically update the IDs in the FactGrid database. This needs to be uploaded manually.\n",
    "\n",
    "6. Retrieve updated online data: The data from FactGrid is redownloaded, now that changes were made.\n",
    "\n",
    "7. Rerunning checks: To make sure that no mistakes have been introduced by updating FactGrid, the checks from before are run again.\n",
    "\n",
    "8. Find entries to update in WIAG: Check for entries that need to be updated in WIAG (and for which it can be done automatically)\n",
    "\n",
    "9. Update WIAG: WIAG-entries that do not yet link to a FactGrid-entry, but to which an FG-entry links, are updated to link back\n",
    "\n",
    "In essence, the code helps maintain accurate and consistent records between the local files and the online database by identifying mismatched IDs and preparing the necessary updates."
   ]
  },
  {
   "cell_type": "markdown",
   "metadata": {},
   "source": [
    "## 1. Import local (WIAG) data\n",
    "\n",
    "\n",
    "\n",
    "### Export Csv Personendaten\n",
    "\n",
    "\n",
    "\n",
    " - Go to https://wiag-vocab.adw-goe.de/query/can\n",
    "\n",
    " - Click on the Export button and then on CSV Personendaten\n",
    "\n",
    " - This will start downloading the data."
   ]
  },
  {
   "cell_type": "markdown",
   "metadata": {},
   "source": [
    "### Import the contents of the CSV file\n",
    "\n",
    "Once the download has finished, move the file to the `input_path` path (defined in the cell below) or change `input_path` to where the file is located.\n",
    "\n",
    "Lastly, if you renamed the file, change `input_file` to the actual name."
   ]
  },
  {
   "cell_type": "code",
   "execution_count": null,
   "metadata": {},
   "outputs": [],
   "source": [
    "import requests\n",
    "import csv\n",
    "import os\n",
    "import pandas as pd\n",
    "import json\n",
    "\n",
    "#change input_path if your file is located somewhere else, e.g. to \"C:\\Users\\schwart2\\Downloads\"\"\n",
    "input_path = r\"C:\\Users\\Public\\sync_notebooks\\input_files\"\n",
    "#change input_file if you renamed the file\n",
    "input_file = f\"WIAG-Domherren-DB-Lebensdaten.csv\"\n",
    "\n",
    "input_path_file = os.path.join(input_path, input_file)\n",
    "wiag_persons_df = pd.read_csv(input_path_file, sep=';')\n",
    "wiag_persons_df = wiag_persons_df[['FactGrid_ID', 'id']] # selecting columns\n",
    "print(str(len(wiag_persons_df)) + \" entries were imported.\")\n",
    "\n",
    "wiag_persons_df.columns = ['wiag_fg_id', 'wiag_id'] # renaming the columns\n"
   ]
  },
  {
   "cell_type": "markdown",
   "metadata": {},
   "source": [
    "## 2. Import Factgrid data\n",
    "\n",
    "This downloads and imports the data from FactGrid automatically."
   ]
  },
  {
   "cell_type": "code",
   "execution_count": null,
   "metadata": {},
   "outputs": [],
   "source": [
    "fg_url = 'https://database.factgrid.de/sparql'\n",
    "fg_query = \"\"\"\n",
    "SELECT ?person ?wiag WHERE {\n",
    "  ?person wdt:P601 ?wiag.\n",
    "  ?person wdt:P2 wd:Q7.\n",
    "}\n",
    "\"\"\"\n",
    "\n",
    "r = requests.get(fg_url, params={'query': fg_query}, headers={\"Accept\": \"application/json\"})\n",
    "data = r.json()\n",
    "fg_wiag_ids_df = pd.json_normalize(data['results']['bindings'])\n",
    "\n",
    "print(str(len(fg_wiag_ids_df)) + \" entries were imported.\")\n",
    "\n",
    "#drop irrelevant columns\n",
    "fg_wiag_ids_df.drop(columns=[column for column in fg_wiag_ids_df.columns if column.endswith('type')], inplace=True)\n",
    "fg_wiag_ids_df.drop(columns=[column for column in fg_wiag_ids_df.columns if column.endswith('xml:lang')], inplace=True)\n",
    "\n",
    "#extract q ID\n",
    "fg_wiag_ids_df['person.value'] = fg_wiag_ids_df['person.value'].map(lambda x: x.strip('https://database.factgrid.de/entity/'))\n",
    "\n",
    "#set column names\n",
    "fg_wiag_ids_df.columns = ['fg_id', 'fg_wiag_id']\n"
   ]
  },
  {
   "cell_type": "markdown",
   "metadata": {},
   "source": [
    "## 3. Check for problematic entries\n",
    "\n",
    "These need to be **fixed manually** before starting again by exporting the data (step 1).\n",
    "\n",
    "\n",
    "\n",
    "This checks whether any FactGrid-entries link to multiple WIAG-IDs and lists them."
   ]
  },
  {
   "cell_type": "code",
   "execution_count": null,
   "metadata": {},
   "outputs": [],
   "source": [
    "fg_wiag_ids_df[fg_wiag_ids_df.duplicated(subset = ['fg_id'], keep = False)].sort_values(by = 'fg_id')"
   ]
  },
  {
   "cell_type": "markdown",
   "metadata": {},
   "source": [
    "This checks whether any WIAG-entries link to multiple FactGrid-IDs and lists them."
   ]
  },
  {
   "cell_type": "code",
   "execution_count": null,
   "metadata": {},
   "outputs": [],
   "source": [
    "wiag_persons_df[wiag_persons_df.duplicated(subset = ['wiag_id'], keep = False)].sort_values(by = 'wiag_id')"
   ]
  },
  {
   "cell_type": "markdown",
   "metadata": {},
   "source": [
    "This checks whether any FactGrid-entries link to the same WIAG-ID."
   ]
  },
  {
   "cell_type": "code",
   "execution_count": null,
   "metadata": {},
   "outputs": [],
   "source": [
    "fg_wiag_ids_df[fg_wiag_ids_df.duplicated(subset = ['fg_wiag_id'], keep = False)].sort_values(by = ['fg_wiag_id'])"
   ]
  },
  {
   "cell_type": "markdown",
   "metadata": {},
   "source": [
    "For the listed IDs, a WIAG-entry links to a FactGrid-entry, which does not yet link to any WIAG-entry"
   ]
  },
  {
   "cell_type": "code",
   "execution_count": null,
   "metadata": {},
   "outputs": [],
   "source": [
    "#merge dataframes (outer join on WIAG-ID)\n",
    "outer_df = fg_wiag_ids_df.merge(wiag_persons_df, how='outer' , left_on = 'fg_wiag_id', right_on = 'wiag_id')\n",
    "fg_missing_wiag_id = outer_df[~outer_df['wiag_fg_id'].isna() & outer_df['fg_id'].isna()]\n",
    "\n",
    "fg_missing_wiag_id[['wiag_id', 'wiag_fg_id']]"
   ]
  },
  {
   "cell_type": "markdown",
   "metadata": {},
   "source": [
    "## 4. Find entries to update\n",
    "\n",
    "### Check all WIAG-IDs that FactGrid-entries link to\n",
    "\n",
    "In case your repository (WIAGweb2) folder is **not** located under the path `path_to_repository`, change the variable below to where the folder is located."
   ]
  },
  {
   "cell_type": "code",
   "execution_count": null,
   "metadata": {},
   "outputs": [],
   "source": [
    "path_to_repository = r\"C:\\Users\\Public\""
   ]
  },
  {
   "cell_type": "markdown",
   "metadata": {},
   "source": [
    "Please note, that the code cell below can take **up to 10 minutes.** Should the cell fail, try running it again (likely cause is a timeout).\n",
    "\n",
    "The cell automatically checks for entries to update by checking WIAG-IDs that are referenced in FactGrid."
   ]
  },
  {
   "cell_type": "code",
   "execution_count": null,
   "metadata": {},
   "outputs": [],
   "source": [
    "path_to_function_scripts = path_to_repository + r\"\\WIAGweb2\\notebooks\\sync_notebooks\\scripts\\factgrid_recon_function_definitions.py\"\n",
    "#This runs the python script located under the given path to define two needed functions (one is the main function called below).\n",
    "%run $path_to_function_scripts\n",
    "\n",
    "counter = 0\n",
    "#creates a list with the WIAG-ID and FactGrid-ID paired for each entry \n",
    "still_missing_entries = list(zip(list(fg_wiag_ids_df['fg_wiag_id']), list(fg_wiag_ids_df['fg_id'])))\n",
    "\n",
    "while still_missing_entries:\n",
    "    counter += 1\n",
    "    print(f\"Starting attempt #{counter}\")\n",
    "    still_missing_entries = await main(still_missing_entries) # final output from the main() function works via the global variables entries_to_be_updated, wiag_different_fgID and wiag_missing_fgID\n",
    "\n",
    "additional_updates_df = pd.DataFrame(entries_to_be_updated) # FactGrid-IDs which point to an outdated WIAG-ID (WIAG redirected to a newer one) and for which the WIAG entry does not point to the FactGrid-ID\n",
    "#updating the WIAG entry with the FactGrid-ID happens in step 4\n",
    "different_fgID_df = pd.DataFrame(wiag_different_fgID, columns = [\"fg_wiag_id\", \"wiag_redirected\", \"fg_id\", \"wiag_fg_id\"])\n",
    "missing_fgID_df = pd.DataFrame(wiag_missing_fgID, columns=[\"fg_wiag_id\", \"fg_id\"]) # WIAG-IDs to whom a FactGrid entry points, but which point to no FactGrid-ID"
   ]
  },
  {
   "cell_type": "markdown",
   "metadata": {},
   "source": [
    "One more check needs to be done before updates can be performed.\n",
    "\n",
    "If the cell below lists any entries, these entries **needs to be fixed manually**. If in doubt, ask Barbara Kroeger!\n",
    "\n",
    "After fixing any entries, you need to **start again** from step 1, to make sure all problems have been fixed and no updates are incorrectly done because of incorrect data.\n",
    "\n",
    "The following WIAG-entries link to FactGrid-entries, but the FG-entries don't link back, but instead link to a different WIAG-entry."
   ]
  },
  {
   "cell_type": "code",
   "execution_count": null,
   "metadata": {},
   "outputs": [],
   "source": [
    "different_fgID_df"
   ]
  },
  {
   "cell_type": "markdown",
   "metadata": {},
   "source": [
    "The following entries point to outdated WIAG-IDs and will be updated automatically. You should **check a sample** of the output and also make sure that the amount of entries isn't absurdly high. If no entries are to be updated, no output will be generated."
   ]
  },
  {
   "cell_type": "code",
   "execution_count": null,
   "metadata": {},
   "outputs": [],
   "source": [
    "if len(entries_to_be_updated) > 0: # not setting the column names when the dataframe is empty, because this produces an error\n",
    "    _to_be_updated_df = pd.DataFrame(entries_to_be_updated)\n",
    "    _to_be_updated_df.columns = [\"fg_id\", \"fg_wiag_id\", \"new_wiag_id\"]\n",
    "    _to_be_updated_df"
   ]
  },
  {
   "cell_type": "markdown",
   "metadata": {},
   "source": [
    "### Check FactGrid-IDs that WIAG-entries point to\n",
    "\n",
    "Once again using the data imported at the beginning, entries are found that also need to be updated."
   ]
  },
  {
   "cell_type": "code",
   "execution_count": null,
   "metadata": {},
   "outputs": [],
   "source": [
    "#merge dataframes (inner join on FactGrid-ID)\n",
    "merged_df = fg_wiag_ids_df.merge(wiag_persons_df, left_on='fg_id', right_on = 'wiag_fg_id')\n",
    "\n",
    "#check for entries where the WIAG-ID in FactGrid is different from the one in WIAG\n",
    "fg_diff_wiag_id = merged_df[merged_df['fg_wiag_id'] != merged_df['wiag_id']]\n",
    "fg_diff_wiag_id = fg_diff_wiag_id[['fg_id', 'fg_wiag_id', 'wiag_id']] # selecting columns - no need to show the same FG-ID twice"
   ]
  },
  {
   "cell_type": "markdown",
   "metadata": {},
   "source": [
    "The output of the following code block **needs to be checked fully** (if there is any). For all listed FactGrid IDs a WIAG entry is linking to them but the corresponding FactGrid entry links to a different WIAG entry. The expected solution (which will be carried out automatically) is to update the FactGrid-entry with the listed WIAG-ID, however it's a good idea to manually check this, even though all weird data constellations should have been filtered out before this step."
   ]
  },
  {
   "cell_type": "code",
   "execution_count": null,
   "metadata": {},
   "outputs": [],
   "source": [
    "fg_diff_wiag_id"
   ]
  },
  {
   "cell_type": "markdown",
   "metadata": {},
   "source": [
    "## 5. Update FactGrid\n",
    "\n",
    "If no entries are listed by the cell below, you can skip all the way to step 8 (no updates need to be done -> no data needs to be redownloaded -> no checks need to run again). You should have checked both lists of updates before this step, if not, check the list now.\n",
    "\n",
    "The `qid` is the FactGrid-ID for which an update should be performed. The `-P601` column shows the WIAG-ID which will be removed from the FactGrid-entry. The `P601` column shows the WIAG-ID which will be added to the entry."
   ]
  },
  {
   "cell_type": "code",
   "execution_count": null,
   "metadata": {},
   "outputs": [],
   "source": [
    "#List the entries in a format that FactGrid understands. (used for updating FactGrid automatically)\n",
    "fg_qs_csv = fg_diff_wiag_id\n",
    "fg_qs_csv.columns = ['qid', '-P601', 'P601']\n",
    "fg_qs_csv = fg_qs_csv.set_index('qid')\n",
    "\n",
    "#add the updates from the first half of step 4\n",
    "final_fg_qs_csv = pd.concat([fg_qs_csv, additional_updates_df], ignore_index=True)\n",
    "final_fg_qs_csv # list some entries"
   ]
  },
  {
   "cell_type": "markdown",
   "metadata": {},
   "source": [
    "### Generate update-file\n",
    "\n",
    "Once all (if any popped up) problematic entries have been taken care of, the file for updating FactGrid can be generated.\n",
    "\n",
    "\n",
    "\n",
    "You can change `output_path` below to where you want the generated file to be saved to."
   ]
  },
  {
   "cell_type": "code",
   "execution_count": null,
   "metadata": {},
   "outputs": [],
   "source": [
    "output_path = r\"C:\\Users\\Public\\sync_notebooks\\output_files\" # change this to save the file to somewhere else\n",
    "\n",
    "from datetime import datetime\n",
    "today_string = datetime.now().strftime('%Y-%m-%d') # create a timestamp for the name of the output file\n",
    "\n",
    "final_fg_qs_csv[\"-P601\"] = final_fg_qs_csv[\"-P601\"].apply(lambda x: f'\"{x}\"') # putting quotes around the value\n",
    "final_fg_qs_csv[\"P601\"] = final_fg_qs_csv[\"P601\"].apply(lambda x: f'\"{x}\"') # putting quotes around the value\n",
    "final_fg_qs_csv.to_csv( # generate csv file\n",
    "    os.path.join(\n",
    "        output_path,\n",
    "        f'factgrid_wiag_id_update_{today_string}.csv'\n",
    "    ),\n",
    "    index=False\n",
    ")\n"
   ]
  },
  {
   "cell_type": "markdown",
   "metadata": {},
   "source": [
    "### Upload the file\n",
    "\n",
    "\n",
    "\n",
    "The generated Factgrid file can be uploaded on to quick statements [here](https://database.factgrid.de/quickstatements/#/batch). More details to perform this [can be found here](https://github.com/WIAG-ADW-GOE/sync_notebooks/docs/Run_factgrid_csv.md)\n",
    "\n"
   ]
  },
  {
   "cell_type": "markdown",
   "metadata": {},
   "source": [
    "## 6. Retrieve updated online data\n",
    "\n",
    "Now that FactGrid has been updated, the data has to be redownloaded. Consequently this is almost the same code as in step 2 (the url and query variables from above are also reused)"
   ]
  },
  {
   "cell_type": "code",
   "execution_count": null,
   "metadata": {},
   "outputs": [],
   "source": [
    "r = requests.get(fg_url, params={'query': fg_query}, headers={\"Accept\": \"application/json\"})\n",
    "data = r.json()\n",
    "fg_wiag_ids_df = pd.json_normalize(data['results']['bindings'])\n",
    "\n",
    "print(str(len(fg_wiag_ids_df)) + \" entries were imported.\")\n",
    "\n",
    "#drop irrelevant columns\n",
    "fg_wiag_ids_df.drop(columns=[column for column in fg_wiag_ids_df.columns if column.endswith('type')], inplace=True)\n",
    "fg_wiag_ids_df.drop(columns=[column for column in fg_wiag_ids_df.columns if column.endswith('xml:lang')], inplace=True)\n",
    "\n",
    "#extract q ID\n",
    "fg_wiag_ids_df['person.value'] = fg_wiag_ids_df['person.value'].map(lambda x: x.strip('https://database.factgrid.de/entity/'))\n",
    "\n",
    "#set column names\n",
    "fg_wiag_ids_df.columns = ['fg_id', 'fg_wiag_id']\n"
   ]
  },
  {
   "cell_type": "markdown",
   "metadata": {},
   "source": [
    "## 7. Rerunning checks\n",
    "\n",
    "To make sure that no mistakes have been introduced by updating FactGrid, the checks from before are run again.\n",
    "\n",
    "This checks whether any FactGrid-entries link to multiple WIAG-IDs and lists them."
   ]
  },
  {
   "cell_type": "code",
   "execution_count": null,
   "metadata": {},
   "outputs": [],
   "source": [
    "fg_wiag_ids_df[fg_wiag_ids_df.duplicated(subset = ['fg_id'], keep = False)].sort_values(by = 'fg_id')"
   ]
  },
  {
   "cell_type": "markdown",
   "metadata": {},
   "source": [
    "This checks whether any FactGrid-entries link to the same WIAG-ID."
   ]
  },
  {
   "cell_type": "code",
   "execution_count": null,
   "metadata": {},
   "outputs": [],
   "source": [
    "fg_wiag_ids_df[fg_wiag_ids_df.duplicated(subset = ['fg_wiag_id'], keep = False)].sort_values(by = 'fg_wiag_id') "
   ]
  },
  {
   "cell_type": "markdown",
   "metadata": {},
   "source": [
    "For the listed IDs, a WIAG-entry links to a FactGrid-entry, which does not yet link to any WIAG-entry"
   ]
  },
  {
   "cell_type": "code",
   "execution_count": null,
   "metadata": {},
   "outputs": [],
   "source": [
    "#merge dataframes (outer join on WIAG-ID) - reusing WIAG-dataframe from step 1\n",
    "outer_df = fg_wiag_ids_df.merge(wiag_persons_df, how='outer' , left_on = 'fg_wiag_id', right_on='wiag_id')\n",
    "outer_df = outer_df[~outer_df['wiag_fg_id'].isna() & outer_df['fg_id'].isna()]\n",
    "\n",
    "outer_df[['wiag_id', 'wiag_fg_id']]"
   ]
  },
  {
   "cell_type": "markdown",
   "metadata": {},
   "source": [
    "## 8. Find entries to update in WIAG\n",
    "\n",
    "For the following list, the FactGrid-entry is linking to the WIAG-entry, but the WIAG-entry links to no the FG-entry. These entries will be updated automatically to link back. You should **check a sample** and make sure the number of updates is not absurdly high (greater than 500)."
   ]
  },
  {
   "cell_type": "code",
   "execution_count": null,
   "metadata": {},
   "outputs": [],
   "source": [
    "#merge dataframes - reusing WIAG-dataframe from step 1\n",
    "new_merged_df = fg_wiag_ids_df.merge(wiag_persons_df, left_on = 'fg_wiag_id', right_on='wiag_id')\n",
    "new_merged_df = new_merged_df[~new_merged_df['wiag_id'].str.startswith('WIAG-Pers-EPISCGatz')] # don't update bishops\n",
    "\n",
    "#find WIAG-entries which do not link to an FG-ID, but an FG-entry links to the WIAG-ID => update WIAG-entries with FG-ID\n",
    "to_be_updated_df = new_merged_df[new_merged_df['wiag_fg_id'].isna() & ~new_merged_df['fg_id'].isna()]\n",
    "to_be_updated_df = to_be_updated_df[['fg_id', 'wiag_id']]\n",
    "to_be_updated_df"
   ]
  },
  {
   "cell_type": "markdown",
   "metadata": {},
   "source": [
    "Exporting the list to a CSV-file, so the entirety of proposed updates can be checked easily. Change the `output path` if you want the file to be saved to somewhere else."
   ]
  },
  {
   "cell_type": "code",
   "execution_count": null,
   "metadata": {},
   "outputs": [],
   "source": [
    "from datetime import datetime\n",
    "\n",
    "output_path = r\"C:\\Users\\Public\\sync_notebooks\\output_files\"\n",
    "today_string = datetime.now().strftime('%Y-%m-%d')\n",
    "\n",
    "to_be_updated_df.to_csv( # generate csv file\n",
    "    os.path.join(\n",
    "        output_path,\n",
    "        f'wiag_ids_to_be_updated_{today_string}.csv'\n",
    "    ),\n",
    "    index=False\n",
    ")"
   ]
  },
  {
   "cell_type": "markdown",
   "metadata": {},
   "source": [
    "## 9. Update WIAG\n",
    "\n",
    "### Generate SQL file\n",
    "\n",
    "From the list above an SQL-file will be generated, which then needs to be uploaded. The same `output path` as above will be used."
   ]
  },
  {
   "cell_type": "code",
   "execution_count": null,
   "metadata": {},
   "outputs": [],
   "source": [
    "from datetime import datetime\n",
    "\n",
    "query = \"LOCK TABLES url_external WRITE, item_corpus WRITE;\\n\"\n",
    "for row in to_be_updated_df.itertuples():\n",
    "    query += f\"\"\"\n",
    "INSERT INTO url_external (item_id, value, authority_id)\n",
    "SELECT item_id, '{row.fg_id}', 42 FROM item_corpus\n",
    "WHERE id_public = \"{row.wiag_id}\";\n",
    "\"\"\"\n",
    "query += \"\\nUNLOCK TABLES;\"\n",
    "\n",
    "today_string = datetime.now().strftime('%Y-%m-%d')\n",
    "with open(os.path.join(output_path, f'insert-uext-can_{today_string}.sql'), 'w') as file:\n",
    "    file.write(query)"
   ]
  },
  {
   "cell_type": "markdown",
   "metadata": {},
   "source": [
    "### Upload file\n",
    "\n",
    "Now that the file has been generated, you need to upload the file to the WIAG database. As always go to [phpMyAdmin (WIAG)](https://vwebfile.gwdg.de/phpmyadmin/), then first select the database (wiagvokabulare) and then either go to the `Import` tab and choose the file to run or paste the contents of the SQL-file into the textfield (more details here [Run_SQL_Query_and_Export_CSV.md](https://github.com/WIAG-ADW-GOE/sync_notebooks/docs/Run_SQL_Query_and_Export_CSV.md)).\n",
    "\n",
    "### Next notebook\n",
    "\n",
    "Once the update is done, you can continue with [notebook 3](Csv2FactGrid-create.ipynb) (Csv2FactGrid-create)."
   ]
  }
 ],
 "metadata": {
  "language_info": {
   "codemirror_mode": {
    "name": "ipython",
    "version": 3
   },
   "file_extension": ".py",
   "mimetype": "text/x-python",
   "name": "python",
   "nbconvert_exporter": "python",
   "pygments_lexer": "ipython3",
   "version": 3
  }
 },
 "nbformat": 4,
 "nbformat_minor": 2
}
