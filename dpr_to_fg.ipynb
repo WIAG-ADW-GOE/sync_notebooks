{
 "cells": [
  {
   "cell_type": "markdown",
   "metadata": {},
   "source": [
    "# 6. Digitales Personenregister (DPr) to FactGrid\n",
    "\n",
    "## Update GSNs in FactGrid\n",
    "\n",
    "This notebook streamlines the synchronization of personal data between two databases, DPr and FactGrid. After loading DPr-data from a CSV-file and retrieving FactGrid-data via SPARQL queries, discrepancies in the GSN (Germania Sacra Number) are identified. Afterwards the script generates QuickStatements for FactGrid and saves them in a CSV-file."
   ]
  },
  {
   "cell_type": "markdown",
   "metadata": {},
   "source": [
    "## 1. Export data from DPr\n",
    "\n",
    "\n",
    "\n",
    "For this step you have to manually export the datasets by following the steps. In case the text description is not enough, a description with screenshots can be found [here](https://github.com/WIAG-ADW-GOE/sync_notebooks/blob/main/docs/Run_SQL_Query_and_Export_CSV.md).\n",
    "\n",
    "\n",
    "\n",
    "1. open [phpMyAdmin DPr](https://personendatenbank.germania-sacra.de/phpmyadmin/)\n",
    "\n",
    "2. log in\n",
    "\n",
    "3. select the 'gso' database\n",
    "\n",
    "4. switch to the 'SQL' tab\n",
    "\n",
    "5. copy [this query](queries/select_dpr_with_deleted.sql), paste it in the text field and click 'Go'\n",
    "\n",
    "6. export the result to a csv file"
   ]
  },
  {
   "cell_type": "markdown",
   "metadata": {},
   "source": [
    "## 2. Import the file\n",
    "\n",
    "Please **move the downloaded file** to the `input_path` directory defined below or **change the `input_path`** to where the file is located.\n",
    "\n",
    "\n",
    "\n",
    "In case you renamed the file (e.g. to include the date on which it was created) you also need to **change the `filename`** below."
   ]
  },
  {
   "cell_type": "code",
   "execution_count": null,
   "metadata": {},
   "outputs": [],
   "source": [
    "import requests\n",
    "import csv\n",
    "import os\n",
    "import pandas as pd\n",
    "import json\n",
    "import re\n",
    "import time\n",
    "from datetime import datetime, timedelta\n",
    "import math\n",
    "import traceback\n",
    "\n",
    "input_path = r\"C:\\Users\\Public\\sync_notebooks\\input_files\"\n",
    "filename = 'persons.csv'"
   ]
  },
  {
   "cell_type": "code",
   "execution_count": null,
   "metadata": {},
   "outputs": [],
   "source": [
    "pr_df = pd.read_csv(os.path.join(input_path, filename), header = 0, names=[\"fg_id\", \"id\", \"gsn\", 'is_deleted'])"
   ]
  },
  {
   "cell_type": "markdown",
   "metadata": {},
   "source": [
    "## 3. Import data from FactGrid\n",
    "\n",
    "Data is downloaded and and cleaned for further processing automatically."
   ]
  },
  {
   "cell_type": "code",
   "execution_count": null,
   "metadata": {},
   "outputs": [],
   "source": [
    "url = 'https://database.factgrid.de/sparql'\n",
    "query = (\n",
    "\"\"\"SELECT ?item ?gsn WHERE {\n",
    "  ?item wdt:P472 ?gsn.\n",
    "}\"\"\")\n",
    "\n",
    "r = requests.get(url, params={'query': query}, headers={\"Accept\": \"application/json\"})\n",
    "data = r.json()\n",
    "factgrid_df = pd.json_normalize(data['results']['bindings'])\n",
    "\n",
    "len(factgrid_df)"
   ]
  },
  {
   "cell_type": "code",
   "execution_count": null,
   "metadata": {},
   "outputs": [],
   "source": [
    "#extract out q id\n",
    "def extract_qid(df, column):\n",
    "    df[column] = df[column].map(lambda x: x.strip('https://database.factgrid.de/entity/'))\n",
    "\n",
    "#drop irrelevant columns\n",
    "def drop_type_columns(df):\n",
    "    df.drop(columns=[column for column in df.columns if column.endswith('type')], inplace=True)\n",
    "    df.drop(columns=[column for column in df.columns if column.endswith('xml:lang')], inplace=True)\n"
   ]
  },
  {
   "cell_type": "code",
   "execution_count": null,
   "metadata": {},
   "outputs": [],
   "source": [
    "drop_type_columns(factgrid_df)\n",
    "extract_qid(factgrid_df, 'item.value')\n",
    "factgrid_df.columns = ['FactGrid_ID', 'gsn']"
   ]
  },
  {
   "cell_type": "markdown",
   "metadata": {},
   "source": [
    "## 4. Compare data from DPr and FG\n",
    "\n",
    "Joining the data and showing a sample to give an idea of what the data looks like."
   ]
  },
  {
   "cell_type": "code",
   "execution_count": null,
   "metadata": {},
   "outputs": [],
   "source": [
    "joined_df = pr_df.merge(factgrid_df, left_on='fg_id', right_on='FactGrid_ID', suffixes=('_dpr', '_fg'))\n",
    "joined_df"
   ]
  },
  {
   "cell_type": "markdown",
   "metadata": {},
   "source": [
    "Only considering entries which were not deleted (in DPr) and where the FactGrid-entry points to a different DPr-entry. It's important that before running this notebook, the in the notebook before (step 7) the\n",
    "\n",
    "have a different GSN in"
   ]
  },
  {
   "cell_type": "code",
   "execution_count": null,
   "metadata": {},
   "outputs": [],
   "source": [
    "unequal_df = joined_df[(joined_df['is_deleted'] == 0) & (joined_df['gsn_dpr'] != joined_df['gsn_fg'])]\n",
    "unequal_df"
   ]
  },
  {
   "cell_type": "code",
   "execution_count": null,
   "metadata": {},
   "outputs": [],
   "source": [
    "export_csv = unequal_df[['fg_id', 'gsn_dpr', 'gsn_fg']]\n",
    "export_csv = export_csv.rename(columns={'fg_id': 'qid', 'gsn_dpr': 'P472', 'gsn_fg': '-P472'})\n",
    "export_csv"
   ]
  },
  {
   "cell_type": "markdown",
   "metadata": {},
   "source": [
    "## 5. Update FactGrid\n",
    "\n",
    "### Generate QuickStatements to update FG\n",
    "\n",
    "Please **change the `output_path`** to where you want the CSV-file to be saved to."
   ]
  },
  {
   "cell_type": "code",
   "execution_count": null,
   "metadata": {},
   "outputs": [],
   "source": [
    "output_path = r\"C:\\Users\\Public\\sync_notebooks\\output_files\""
   ]
  },
  {
   "cell_type": "code",
   "execution_count": null,
   "metadata": {},
   "outputs": [],
   "source": [
    "today_string = datetime.now().strftime('%Y-%m-%d')\n",
    "output_path = r\"C:\\Users\\Public\\sync_notebooks\\output_files\"\n",
    "\n",
    "export_csv[\"-P472\"] = export_csv[\"-P472\"].apply(lambda x: f'\"{x}\"')\n",
    "export_csv[\"P472\"] = export_csv[\"P472\"].apply(lambda x: f'\"{x}\"')\n",
    "export_csv.to_csv(\n",
    "    os.path.join(\n",
    "        output_path,\n",
    "        f'factgrid_dpr_id_update_{today_string}.csv'\n",
    "    ),\n",
    "    index=False\n",
    ")"
   ]
  },
  {
   "cell_type": "markdown",
   "metadata": {},
   "source": [
    "### Upload the file\n",
    "\n",
    "Once the file has been generated, please open [QuickStatements](https://database.factgrid.de/quickstatements/#/batch) and **run the CSV-commands**. More details to perform this can be found [here](https://github.com/WIAG-ADW-GOE/sync_notebooks/blob/main/docs/Run_factgrid_csv.md).\n",
    "\n",
    "### Next notebook\n",
    "\n",
    "There is no next notebook. The workflow is complete."
   ]
  }
 ],
 "metadata": {
  "language_info": {
   "codemirror_mode": {
    "name": "ipython",
    "version": 3
   },
   "file_extension": ".py",
   "mimetype": "text/x-python",
   "name": "python",
   "nbconvert_exporter": "python",
   "pygments_lexer": "ipython3",
   "version": 3
  }
 },
 "nbformat": 4,
 "nbformat_minor": 2
}
