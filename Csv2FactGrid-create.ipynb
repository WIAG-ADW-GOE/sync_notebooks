{
 "cells": [
  {
   "cell_type": "markdown",
   "metadata": {},
   "source": [
    "# 3. Csv2FactGrid-create.ipynb\n",
    "\n",
    "This notebook creates new records in FactGrid by generating V1 statements compatible with QuickStatements, a tool for batch editing FactGrid entries. It identifies new entries (persons that are in WIAG but not on FG), assigns appropriate role descriptions, and formats multilingual labels and descriptions for each entry. It ensures consistency with FactGrid conventions, including handling roles, group assignments, and standardized property mappings."
   ]
  },
  {
   "cell_type": "markdown",
   "metadata": {},
   "source": [
    "## Import data"
   ]
  },
  {
   "cell_type": "markdown",
   "metadata": {},
   "source": [
    "### Download data from WIAG\n",
    "\n",
    "It's recommended to limit the export to one Domstift by first searching for that Domstift before exporting the 'CSV Personendaten' and 'CSV Amtsdaten' to make sure that the amount of objects to be added is manageable.\n",
    "\n",
    "1. go to https://wiag-vokabulare.uni-goettingen.de/query/can\n",
    "2. filter by cathedral chapter (Domstift)\n",
    "3. click Export->Personendaten\n",
    "4. click Export->Amtsdaten\n",
    "\n",
    "If you filtered by Domstift (cathedral chapter), **change the variable below** to the domstift you used and **change the name of the exported file** to include the name of the cathedral chapter.\n",
    "\n",
    "If you did not filter, you need to change the line to `domstift = \"\"`.\n",
    "\n",
    "You can also rename the file (e.g. to include the date on which it was created). In that case you also need to **change the `filename`** below."
   ]
  },
  {
   "cell_type": "code",
   "execution_count": null,
   "metadata": {},
   "outputs": [],
   "source": [
    "domstift = \"Mainz\" # with domstift = \"Mainz\" the name of the file should be \"WIAG-Domherren-DB-Ämter-Mainz.csv\"\n",
    "#domstift = \"\" # in case you did not filter by Domstift, use this instead\n",
    "\n",
    "base_filename_l = \"WIAG-Domherren-DB-Lebensdaten\"\n",
    "base_filename_a = \"WIAG-Domherren-DB-Ämter\""
   ]
  },
  {
   "cell_type": "markdown",
   "metadata": {},
   "source": [
    "### Import the files"
   ]
  },
  {
   "cell_type": "markdown",
   "metadata": {},
   "source": [
    "Please **move the downloaded file** to the `input_path` directory defined below or **change the `input_path`** to where the file is located."
   ]
  },
  {
   "cell_type": "code",
   "execution_count": null,
   "metadata": {},
   "outputs": [],
   "source": [
    "input_path = \"C:\\\\Users\\\\Public\\\\sync_notebooks\\\\input_files\""
   ]
  },
  {
   "cell_type": "markdown",
   "metadata": {},
   "source": [
    "define the exact names of the files"
   ]
  },
  {
   "cell_type": "code",
   "execution_count": null,
   "metadata": {},
   "outputs": [],
   "source": [
    "using CSV, DataFrames, Dates\n",
    "\n",
    "ENV[\"COLUMNS\"] = 120\n",
    "\n",
    "if domstift == \"\"\n",
    "    input_file_l = base_filename_l * \".csv\"\n",
    "    input_file_a = base_filename_a * \".csv\"\n",
    "else\n",
    "    input_file_l = base_filename_l * '-' * domstift * \".csv\"\n",
    "    input_file_a = base_filename_a * '-' * domstift * \".csv\"\n",
    "end"
   ]
  },
  {
   "cell_type": "markdown",
   "metadata": {},
   "source": [
    "load person data"
   ]
  },
  {
   "cell_type": "code",
   "execution_count": null,
   "metadata": {},
   "outputs": [],
   "source": [
    "df_person_all = CSV.read(joinpath(input_path, input_file_l), DataFrame);\n",
    "println(nrow(df_person_all))\n",
    "# filter for persons that are not yet in FG\n",
    "df_person_in = subset(df_person_all, :FactGrid_ID => ByRow(ismissing));\n",
    "println(nrow(df_person_in))"
   ]
  },
  {
   "cell_type": "markdown",
   "metadata": {},
   "source": [
    "load offices"
   ]
  },
  {
   "cell_type": "markdown",
   "metadata": {},
   "source": [
    "Lies die Amtsdaten ein (zunächst für P165). Sie werden auch verwendet, um eine Beschreibung zusammenzustellen."
   ]
  },
  {
   "cell_type": "code",
   "execution_count": null,
   "metadata": {},
   "outputs": [],
   "source": [
    "df_role_all = CSV.read(joinpath(input_path, input_file_a), DataFrame);\n",
    "println(nrow(df_role_all))"
   ]
  },
  {
   "cell_type": "markdown",
   "metadata": {},
   "source": [
    "## Create descriptions for each new person entry\n",
    "### German description\n",
    "Definiere Funktionen:  \n",
    "Lege die zwei Rollen/Amtszeiten fest, die für die Beschreibung verwendet werden.  \n",
    "Priorisiere nach Gruppe der Rolle (siehe `role_group_rank_list`) und dann nach Amtszeit (jüngste zuerst)"
   ]
  },
  {
   "cell_type": "code",
   "execution_count": null,
   "metadata": {},
   "outputs": [],
   "source": [
    "function describe_role(role)\n",
    "    inst_or_dioc = !ismissing(role[:institution]) ? role[:institution] : role[:diocese]    \n",
    "    \n",
    "    date_info = \"\"\n",
    "    if !ismissing(role[:date_begin]) && !ismissing(role[:date_end])\n",
    "        date_info = role[:date_begin] * \"-\" * role[:date_end]\n",
    "    elseif !ismissing(role[:date_begin])\n",
    "        date_info = role[:date_begin]\n",
    "    elseif !ismissing(role[:date_end])\n",
    "        date_info = \"bis \" * role[:date_end]\n",
    "    end\n",
    "    \n",
    "    description = role[:name]\n",
    "    if !ismissing(inst_or_dioc)\n",
    "        description *= \" \" * inst_or_dioc\n",
    "    end\n",
    "    if date_info != \"\"\n",
    "        description *= \" \" * date_info\n",
    "    end\n",
    "    \n",
    "    return description    \n",
    "end"
   ]
  },
  {
   "cell_type": "code",
   "execution_count": null,
   "metadata": {},
   "outputs": [],
   "source": [
    "role_group_rank_list = [\n",
    "    \"Q648236\", # Leiter (Erz-)diözese (Altes Reich)\n",
    "    \"Q648232\", # Domdignitär Altes Reich            \n",
    "    \"Q648226\", # Domkleriker Altes Reich\n",
    "    \"Q648233\", # Klosterangehöriger mit Leitungsamt\n",
    "];"
   ]
  },
  {
   "cell_type": "markdown",
   "metadata": {},
   "source": [
    "Häufigkeit der priorisierten Gruppen"
   ]
  },
  {
   "cell_type": "code",
   "execution_count": null,
   "metadata": {},
   "outputs": [],
   "source": [
    "for rg in role_group_rank_list\n",
    "    println(rg, \": \", count(isequal(rg), df_role_all.role_group_fq_id))\n",
    "end"
   ]
  },
  {
   "cell_type": "code",
   "execution_count": null,
   "metadata": {},
   "outputs": [],
   "source": [
    "\"\"\"\n",
    "    lt_role_group_fq_id(a, b, role_group_rank_list)\n",
    "\n",
    "compare `a` and `b` based on `role_group_rank_list`\n",
    "\"\"\"\n",
    "function less_than_role_group_fq_id(a, b, role_group_rank_list)\n",
    "    if ismissing(a)\n",
    "        return false\n",
    "    end\n",
    "    if ismissing(b)\n",
    "        return true\n",
    "    end\n",
    "    \n",
    "    lt = false\n",
    "    for rg_prio in role_group_rank_list\n",
    "        # println(rg_prio, \" a: \", a, \" b: \", b)\n",
    "        if a == rg_prio && b != rg_prio\n",
    "            lt = true\n",
    "            break\n",
    "        end\n",
    "        if a != rg_prio && b == rg_prio\n",
    "            lt = false\n",
    "            break\n",
    "        end\n",
    "    end\n",
    "    \n",
    "    return lt        \n",
    "end\n",
    "\n",
    "lt_rg_fq_id(a, b) = less_than_role_group_fq_id(a, b, role_group_rank_list)"
   ]
  },
  {
   "cell_type": "code",
   "execution_count": null,
   "metadata": {},
   "outputs": [],
   "source": [
    "function description_by_role(df)\n",
    "    N_ROLE_4_DESCRIPTION = 2\n",
    "    df_s = sort(df, [:date_sort_key], rev = true)\n",
    "    df_s = sort(df_s, [:role_group_fq_id], lt = lt_rg_fq_id, alg = MergeSort)\n",
    "    description_list = String[]\n",
    "    for row in eachrow(df_s)\n",
    "        push!(description_list, describe_role(row))\n",
    "    end\n",
    "    head_list = first(unique(description_list), N_ROLE_4_DESCRIPTION)\n",
    "    return join(head_list, \", \")\n",
    "end"
   ]
  },
  {
   "cell_type": "code",
   "execution_count": null,
   "metadata": {},
   "outputs": [],
   "source": [
    "dfg_role_all = groupby(df_role_all, [:person_id]);\n",
    "df_role_description = combine(dfg_role_all, description_by_role);\n",
    "nrow(df_role_description)"
   ]
  },
  {
   "cell_type": "markdown",
   "metadata": {},
   "source": [
    "show a sample of the created descriptions"
   ]
  },
  {
   "cell_type": "code",
   "execution_count": null,
   "metadata": {},
   "outputs": [],
   "source": [
    "df_role_description[200:205, :]"
   ]
  },
  {
   "cell_type": "markdown",
   "metadata": {},
   "source": [
    "Führe die Beschreibungen mit den übrigen Personendaten zusammen. (join)"
   ]
  },
  {
   "cell_type": "code",
   "execution_count": null,
   "metadata": {},
   "outputs": [],
   "source": [
    "columns = [\n",
    "    :person_id => :person_id,\n",
    "    :x1 => :summary_roles,\n",
    "]\n",
    "\n",
    "df_person = innerjoin(df_person_in, select(df_role_description, columns), on = :id => :person_id);\n",
    "nrow(df_person)"
   ]
  },
  {
   "cell_type": "markdown",
   "metadata": {},
   "source": [
    "### English description\n",
    "Für die englische Beschreibung wird die Bezeichnung der am höchsten priorisierten Ämtergruppe verwendet"
   ]
  },
  {
   "cell_type": "code",
   "execution_count": null,
   "metadata": {},
   "outputs": [],
   "source": [
    "function description_by_role_en(df)\n",
    "    N_ROLE_4_DESCRIPTION = 1\n",
    "    df_s = sort(df, [:date_sort_key], rev = true)\n",
    "    df_s = sort(df_s, [:role_group_fq_id], lt = lt_rg_fq_id, alg = MergeSort)\n",
    "    if nrow(df_s) < 1\n",
    "        return missing\n",
    "    else\n",
    "        return first(df_s)[:role_group_en]\n",
    "    end\n",
    "end"
   ]
  },
  {
   "cell_type": "code",
   "execution_count": null,
   "metadata": {},
   "outputs": [],
   "source": [
    "df_role_description_en = combine(dfg_role_all, description_by_role_en);\n",
    "nrow(df_role_description_en)"
   ]
  },
  {
   "cell_type": "code",
   "execution_count": null,
   "metadata": {},
   "outputs": [],
   "source": [
    "columns = [\n",
    "    :person_id => :person_id,\n",
    "    :x1 => :best_role_group_en,\n",
    "]"
   ]
  },
  {
   "cell_type": "code",
   "execution_count": null,
   "metadata": {},
   "outputs": [],
   "source": [
    "df_person = innerjoin(df_person, select(df_role_description_en, columns), on = :id => :person_id);\n",
    "nrow(df_person)"
   ]
  },
  {
   "cell_type": "code",
   "execution_count": null,
   "metadata": {},
   "outputs": [],
   "source": [
    "sort!(df_person, [:corpus, :id]);"
   ]
  },
  {
   "cell_type": "code",
   "execution_count": null,
   "metadata": {},
   "outputs": [],
   "source": [
    "df_person[1:4, [:id, :displayname, :summary_roles, :best_role_group_en]]"
   ]
  },
  {
   "cell_type": "markdown",
   "metadata": {},
   "source": [
    "## Add role groups\n",
    "These are both added as offices and as part of the descriptions.\n",
    "\n",
    "Wähle für die Liste der Rollen die relevanten Spalten aus.  \n",
    "*2023-12-18* zunächst werden die Amtsdaten noch nicht detailliert im FactGrid eingetragen. Die Personen werden aber schon Rollengruppen zugeordnet."
   ]
  },
  {
   "cell_type": "code",
   "execution_count": null,
   "metadata": {},
   "outputs": [],
   "source": [
    "columns = [\n",
    "    :person_id => :person_id,\n",
    "    :role_group_fq_id => :P165\n",
    "]"
   ]
  },
  {
   "cell_type": "code",
   "execution_count": null,
   "metadata": {},
   "outputs": [],
   "source": [
    "df_role = select(df_role_all, columns);"
   ]
  },
  {
   "cell_type": "markdown",
   "metadata": {},
   "source": [
    "Unter der Property P165 werden die Gruppen der Ämter eingetragen. Relevante Gruppen werdne hier über entsprechenden FactGrid-ID ausgewählt.  \n",
    "*2023-12-19* aktuell werden alle Gruppen verwendet"
   ]
  },
  {
   "cell_type": "code",
   "execution_count": null,
   "metadata": {},
   "outputs": [],
   "source": [
    "relevant_role_group_fq_id = [\n",
    "    \"Q254893\",\n",
    "    \"Q385344\",\n",
    "    \"Q648226\",\n",
    "    \"Q648227\",\n",
    "    \"Q648228\",\n",
    "    \"Q648229\",\n",
    "    \"Q648230\",\n",
    "    \"Q648232\",\n",
    "    \"Q648233\",\n",
    "    \"Q648234\",\n",
    "    \"Q648235\",\n",
    "    \"Q648236\",\n",
    "    \"Q648239\",\n",
    "];"
   ]
  },
  {
   "cell_type": "code",
   "execution_count": null,
   "metadata": {},
   "outputs": [],
   "source": [
    "is_relevant(s) = !ismissing(s) && s in relevant_role_group_fq_id"
   ]
  },
  {
   "cell_type": "code",
   "execution_count": null,
   "metadata": {},
   "outputs": [],
   "source": [
    "df_role_group = subset(df_role, :P165 => ByRow(is_relevant));\n",
    "nrow(df_role_group)"
   ]
  },
  {
   "cell_type": "markdown",
   "metadata": {},
   "source": [
    "Doppeleinträge sind nicht sinnvoll. Lösche doppelte Einträge."
   ]
  },
  {
   "cell_type": "code",
   "execution_count": null,
   "metadata": {},
   "outputs": [],
   "source": [
    "df_role_group = unique(df_role_group);\n",
    "nrow(df_role_group)"
   ]
  },
  {
   "cell_type": "markdown",
   "metadata": {},
   "source": [
    "Das deutsche Beschreibungsfeld soll Lebensdaten mit der Zusammenfassung der Amtsdaten enthalten."
   ]
  },
  {
   "cell_type": "code",
   "execution_count": null,
   "metadata": {},
   "outputs": [],
   "source": [
    "join_komma(a, b) = join((a, b), \", \")\n",
    "transform!(df_person, [:biographical_dates, :summary_roles] => ByRow(join_komma) => :description_de);"
   ]
  },
  {
   "cell_type": "markdown",
   "metadata": {},
   "source": [
    "Das englische Beschreibungsfeld soll Lebensdaten mit der am höchsten priorisierten Ämtergruppe enthalten. Falls der Name der Gruppe nicht übersetzt ist oder falls es keine Ämter gibt, wird für die Beschreibung 'missing' ausgegeben."
   ]
  },
  {
   "cell_type": "code",
   "execution_count": null,
   "metadata": {},
   "outputs": [],
   "source": [
    "transform!(df_person, [:biographical_dates, :best_role_group_en] => ByRow(join_komma) => :description_en);"
   ]
  },
  {
   "cell_type": "markdown",
   "metadata": {},
   "source": [
    "Das FactGrid arbeitet für Wikipedia nicht mit URL-codierten Adressen.\n",
    "*2023-12-13* WIAG gibt direkt unkodierte URLs aus, daher sind die folgenden Schritte auskommentiert"
   ]
  },
  {
   "cell_type": "code",
   "execution_count": null,
   "metadata": {},
   "outputs": [],
   "source": [
    "# unescape_not_mg(s) = ismissing(s) ? s : URIs.unescapeuri(s)"
   ]
  },
  {
   "cell_type": "code",
   "execution_count": null,
   "metadata": {},
   "outputs": [],
   "source": [
    "# transform!(df_person, :Wikipedia => ByRow(unescape_not_mg) => :Wikipedia);"
   ]
  },
  {
   "cell_type": "code",
   "execution_count": null,
   "metadata": {},
   "outputs": [],
   "source": [
    "columns = [:givenname, :prefix, :familyname, :Wikipedia]\n",
    "dropmissing(df_person, :Wikipedia)[5:8, columns]"
   ]
  },
  {
   "cell_type": "markdown",
   "metadata": {},
   "source": [
    "Benenne die Spalten um entsprechend den Konventionen des FactGrid."
   ]
  },
  {
   "cell_type": "code",
   "execution_count": null,
   "metadata": {},
   "outputs": [],
   "source": [
    "columns = [\n",
    "    :displayname => :Lde,\n",
    "    :description_de => :Dde,\n",
    "    :description_en => :Den,\n",
    "    :date_of_birth => :P77,\n",
    "    :date_of_death => :P38,\n",
    "    :GND_ID => :P76,\n",
    "    :GSN => :P472,\n",
    "    :id => :P601,\n",
    "    :Wikidata_ID => :Swikidatawiki,\n",
    "    :Wikipedia => :Sdewiki\n",
    "]\n",
    "\n",
    "rename!(df_person, columns);"
   ]
  },
  {
   "cell_type": "markdown",
   "metadata": {},
   "source": [
    "Kopiere das Label in Deutsch für die anderen Sprachen"
   ]
  },
  {
   "cell_type": "code",
   "execution_count": null,
   "metadata": {},
   "outputs": [],
   "source": [
    "df_person.Len = df_person.Lde;\n",
    "df_person.Lfr = df_person.Lde;\n",
    "df_person.Les = df_person.Lde;"
   ]
  },
  {
   "cell_type": "code",
   "execution_count": null,
   "metadata": {},
   "outputs": [],
   "source": [
    "df_person[111:114, [:P601, :givenname, :prefix, :familyname, :Len, :Den]]"
   ]
  },
  {
   "cell_type": "markdown",
   "metadata": {},
   "source": [
    "Füge Daten ein, die für alle Personen gleich sind:\n",
    "Mensch, Teil der Germania Sacra Forschungsdaten, männlich"
   ]
  },
  {
   "cell_type": "code",
   "execution_count": null,
   "metadata": {},
   "outputs": [],
   "source": [
    "insertcols!(df_person, \n",
    "    :P2 => \"Q7\",\n",
    "    :P131 => \"Q153178\",\n",
    "    :P154 => \"Q18\"\n",
    ");    "
   ]
  },
  {
   "cell_type": "markdown",
   "metadata": {},
   "source": [
    "Definiere Umwandlungsfunktionen  \n",
    "*offen:* Datumsangaben sind noch zu besprechen, wegen der Verarbeitung von unscharfen Zeitangaben."
   ]
  },
  {
   "cell_type": "code",
   "execution_count": null,
   "metadata": {},
   "outputs": [],
   "source": [
    "fqs_string(s) = \"\\\"\" * string(s) * \"\\\"\""
   ]
  },
  {
   "cell_type": "code",
   "execution_count": null,
   "metadata": {},
   "outputs": [],
   "source": [
    "function create(out, row, col_list) \n",
    "    println(out, \"CREATE\")    \n",
    "    for col in col_list\n",
    "        println(out, \"LAST\\t\", string(col), \"\\t\", fqs_string(row[col]))        \n",
    "    end\n",
    "end"
   ]
  },
  {
   "cell_type": "code",
   "execution_count": null,
   "metadata": {},
   "outputs": [],
   "source": [
    "\"\"\"\n",
    "    set_property_list (out, row, object, col_list, fmt_list)\n",
    "\n",
    "    \n",
    "\n",
    "# Arguments\n",
    "- `out::IOStream`: output stream\n",
    "- `row::DataFrameRow`: input data\n",
    "- `object`: FactGrid identifier or \"LAST\"\n",
    "- `col_list`: list of colums where data should be read from\n",
    "- `fmr_list`: list of formatting functions (one for each column)\n",
    "\"\"\"\n",
    "function set_property_list(out, row, object, col_list, fmt_list)\n",
    "    for (col, fmt) in zip(col_list, fmt_list)\n",
    "        if (!ismissing(row[col]))\n",
    "            println(out, object, \"\\t\", string(col), \"\\t\", fmt(row[col]))\n",
    "        end\n",
    "    end\n",
    "end"
   ]
  },
  {
   "cell_type": "markdown",
   "metadata": {},
   "source": [
    "Funktionsdefinition: Lies die Amtsdaten für einen bestimmten Domherren"
   ]
  },
  {
   "cell_type": "code",
   "execution_count": null,
   "metadata": {},
   "outputs": [],
   "source": [
    "\"\"\"\n",
    "    set_role(df_role, id)\n",
    "\n",
    "extract roles for person with `id`\n",
    "\"\"\"\n",
    "function set_role(out, df_role, id, object, property)\n",
    "    property = Symbol(property)\n",
    "    df_pr = subset(df_role, :person_id => ByRow(isequal(id)));\n",
    "    df_pr = subset(df_pr, )\n",
    "    fq_id_list = unique(df_pr[!, property])\n",
    "    for fq_id in fq_id_list\n",
    "        println(out, object, \"\\t\", property, \"\\t\", fq_id)\n",
    "    end\n",
    "    return nothing\n",
    "end\n"
   ]
  },
  {
   "cell_type": "markdown",
   "metadata": {},
   "source": [
    "## Update FactGrid\n",
    "### Generate file with V1-instructions\n",
    "\n",
    "Gib ausgewählte Elemente aus `df_person` aus. Falls es schon eine Datei mit gleichem Namen im angegebenen Verzeichnis gibt, wird die Datei überschrieben."
   ]
  },
  {
   "cell_type": "code",
   "execution_count": null,
   "metadata": {},
   "outputs": [],
   "source": [
    "output_path = \"C:\\\\Users\\\\Public\\\\sync_notebooks\\\\output_files\""
   ]
  },
  {
   "cell_type": "code",
   "execution_count": null,
   "metadata": {},
   "outputs": [],
   "source": [
    "date_key = Dates.format(now(), \"yyyy-mm-dd\")"
   ]
  },
  {
   "cell_type": "code",
   "execution_count": null,
   "metadata": {},
   "outputs": [],
   "source": [
    "if domstift == \"\"\n",
    "    output_file = \"Insert_WIAG_\" * date_key * \"_FQ.csv\"\n",
    "else\n",
    "    output_file = \"Insert_WIAG-\" * domstift * '_' * date_key * \"_FQ.csv\"\n",
    "end\n",
    "output_path_file = joinpath(output_path, output_file)"
   ]
  },
  {
   "cell_type": "code",
   "execution_count": null,
   "metadata": {},
   "outputs": [],
   "source": [
    "open(output_path_file, \"w\") do out_stream\n",
    "    for row in eachrow(df_person)\n",
    "        create(out_stream, row, [:Lde, :Len, :Lfr, :Les, :Dde, :Den])\n",
    "        set_property_list(out_stream, row, \"LAST\", \n",
    "            [:P2, :P131, :P154, :P601, :P76, :P472, :Swikidatawiki, :Sdewiki], \n",
    "            [identity, identity, identity, fqs_string, fqs_string, fqs_string, fqs_string, fqs_string])\n",
    "        set_role(out_stream, df_role_group, row[:P601], \"LAST\", :P165)\n",
    "    end        \n",
    "end"
   ]
  },
  {
   "cell_type": "markdown",
   "metadata": {},
   "source": [
    "### Upload to FactGrid\n",
    "Once the file has been generated, please open [QuickStatements](https://database.factgrid.de/quickstatements/#/batch) and **run the V1-commands**. More details to perform this can be found [here](https://github.com/WIAG-ADW-GOE/sync_notebooks/blob/main/docs/Run_factgrid_csv.md).\n",
    "### Next notebook\n",
    "Once the update is done, you can continue with [notebook 4](wiag_to_factgrid.ipynb) (wiag_to_factgrid)."
   ]
  }
 ],
 "metadata": {
  "kernelspec": {
   "display_name": "Julia 1.11.4",
   "language": "julia",
   "name": "julia-1.11"
  },
  "language_info": {
   "file_extension": ".jl",
   "mimetype": "application/julia",
   "name": "julia",
   "version": "1.11.4"
  }
 },
 "nbformat": 4,
 "nbformat_minor": 4
}
